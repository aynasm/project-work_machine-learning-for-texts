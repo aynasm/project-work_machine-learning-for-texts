{
 "cells": [
  {
   "cell_type": "markdown",
   "metadata": {
    "toc": true
   },
   "source": [
    "<h1>Содержание<span class=\"tocSkip\"></span></h1>\n",
    "<div class=\"toc\"><ul class=\"toc-item\"><li><span><a href=\"#Подготовка\" data-toc-modified-id=\"Подготовка-1\"><span class=\"toc-item-num\">1&nbsp;&nbsp;</span>Подготовка</a></span></li><li><span><a href=\"#Обучение\" data-toc-modified-id=\"Обучение-2\"><span class=\"toc-item-num\">2&nbsp;&nbsp;</span>Обучение</a></span></li><li><span><a href=\"#Выводы\" data-toc-modified-id=\"Выводы-3\"><span class=\"toc-item-num\">3&nbsp;&nbsp;</span>Выводы</a></span></li><li><span><a href=\"#Чек-лист-проверки\" data-toc-modified-id=\"Чек-лист-проверки-4\"><span class=\"toc-item-num\">4&nbsp;&nbsp;</span>Чек-лист проверки</a></span></li></ul></div>"
   ]
  },
  {
   "cell_type": "markdown",
   "metadata": {},
   "source": [
    "# Проект для «Викишоп»"
   ]
  },
  {
   "cell_type": "markdown",
   "metadata": {},
   "source": [
    "Интернет-магазин «Викишоп» запускает новый сервис. Теперь пользователи могут редактировать и дополнять описания товаров, как в вики-сообществах. То есть клиенты предлагают свои правки и комментируют изменения других. Магазину нужен инструмент, который будет искать токсичные комментарии и отправлять их на модерацию. \n",
    "\n",
    "Обучите модель классифицировать комментарии на позитивные и негативные. В вашем распоряжении набор данных с разметкой о токсичности правок.\n",
    "\n",
    "Постройте модель со значением метрики качества *F1* не меньше 0.75. \n",
    "\n",
    "**Инструкция по выполнению проекта**\n",
    "\n",
    "1. Загрузите и подготовьте данные.\n",
    "2. Обучите разные модели. \n",
    "3. Сделайте выводы.\n",
    "\n",
    "Для выполнения проекта применять *BERT* необязательно, но вы можете попробовать.\n",
    "\n",
    "**Описание данных**\n",
    "\n",
    "Данные находятся в файле `toxic_comments.csv`. Столбец *text* в нём содержит текст комментария, а *toxic* — целевой признак."
   ]
  },
  {
   "cell_type": "markdown",
   "metadata": {},
   "source": [
    "## Подготовка"
   ]
  },
  {
   "cell_type": "code",
   "execution_count": 1,
   "metadata": {},
   "outputs": [],
   "source": [
    "# импорты из стандартной библиотеки\n",
    "import warnings\n",
    "\n",
    "# импорты сторонних библиотек\n",
    "import numpy as np\n",
    "import pandas as pd\n",
    "import nltk\n",
    "import re\n",
    "import spacy\n",
    "\n",
    "\n",
    "# импорты модулей текущего проекта\n",
    "from tqdm import tqdm\n",
    "from nltk.stem import WordNetLemmatizer\n",
    "from nltk.corpus import stopwords as nltk_stopwords\n",
    "from sklearn.feature_extraction.text import TfidfVectorizer \n",
    "from nltk.corpus import stopwords as nltk_stopwords\n",
    "from sklearn.metrics import f1_score\n",
    "from sklearn.model_selection import (\n",
    "    GridSearchCV, \n",
    "    train_test_split\n",
    ")\n",
    "\n",
    "from catboost import CatBoostClassifier \n",
    "from sklearn.linear_model import LogisticRegression\n",
    "from sklearn.ensemble import RandomForestClassifier\n",
    "\n",
    "# настройки\n",
    "warnings.filterwarnings(\"ignore\")\n",
    "\n",
    "# константы заглавными буквами\n",
    "RANDOM_STATE = 12345"
   ]
  },
  {
   "cell_type": "code",
   "execution_count": 2,
   "metadata": {},
   "outputs": [],
   "source": [
    "#Считываем данные из csv-файла в датафрейм\n",
    "try:\n",
    "    data = pd.read_csv('/datasets/toxic_comments.csv', index_col=[0], parse_dates=[0])\n",
    "except:\n",
    "    data = pd.read_csv('https://code.s3.yandex.net/datasets/toxic_comments.csv', index_col=[0], parse_dates=[0])"
   ]
  },
  {
   "cell_type": "code",
   "execution_count": 3,
   "metadata": {},
   "outputs": [],
   "source": [
    "#data = data.sample(5000).reset_index(drop=True)"
   ]
  },
  {
   "cell_type": "code",
   "execution_count": 4,
   "metadata": {},
   "outputs": [
    {
     "name": "stdout",
     "output_type": "stream",
     "text": [
      "------------- Первые 5 строк ------------\n"
     ]
    },
    {
     "data": {
      "text/html": [
       "<div>\n",
       "<style scoped>\n",
       "    .dataframe tbody tr th:only-of-type {\n",
       "        vertical-align: middle;\n",
       "    }\n",
       "\n",
       "    .dataframe tbody tr th {\n",
       "        vertical-align: top;\n",
       "    }\n",
       "\n",
       "    .dataframe thead th {\n",
       "        text-align: right;\n",
       "    }\n",
       "</style>\n",
       "<table border=\"1\" class=\"dataframe\">\n",
       "  <thead>\n",
       "    <tr style=\"text-align: right;\">\n",
       "      <th></th>\n",
       "      <th>text</th>\n",
       "      <th>toxic</th>\n",
       "    </tr>\n",
       "  </thead>\n",
       "  <tbody>\n",
       "    <tr>\n",
       "      <th>0</th>\n",
       "      <td>Explanation\\nWhy the edits made under my usern...</td>\n",
       "      <td>0</td>\n",
       "    </tr>\n",
       "    <tr>\n",
       "      <th>1</th>\n",
       "      <td>D'aww! He matches this background colour I'm s...</td>\n",
       "      <td>0</td>\n",
       "    </tr>\n",
       "    <tr>\n",
       "      <th>2</th>\n",
       "      <td>Hey man, I'm really not trying to edit war. It...</td>\n",
       "      <td>0</td>\n",
       "    </tr>\n",
       "    <tr>\n",
       "      <th>3</th>\n",
       "      <td>\"\\nMore\\nI can't make any real suggestions on ...</td>\n",
       "      <td>0</td>\n",
       "    </tr>\n",
       "    <tr>\n",
       "      <th>4</th>\n",
       "      <td>You, sir, are my hero. Any chance you remember...</td>\n",
       "      <td>0</td>\n",
       "    </tr>\n",
       "  </tbody>\n",
       "</table>\n",
       "</div>"
      ],
      "text/plain": [
       "                                                text  toxic\n",
       "0  Explanation\\nWhy the edits made under my usern...      0\n",
       "1  D'aww! He matches this background colour I'm s...      0\n",
       "2  Hey man, I'm really not trying to edit war. It...      0\n",
       "3  \"\\nMore\\nI can't make any real suggestions on ...      0\n",
       "4  You, sir, are my hero. Any chance you remember...      0"
      ]
     },
     "metadata": {},
     "output_type": "display_data"
    },
    {
     "name": "stdout",
     "output_type": "stream",
     "text": [
      "\n",
      "\n",
      "------------- Типы данных ------------\n",
      "<class 'pandas.core.frame.DataFrame'>\n",
      "Int64Index: 159292 entries, 0 to 159450\n",
      "Data columns (total 2 columns):\n",
      " #   Column  Non-Null Count   Dtype \n",
      "---  ------  --------------   ----- \n",
      " 0   text    159292 non-null  object\n",
      " 1   toxic   159292 non-null  int64 \n",
      "dtypes: int64(1), object(1)\n",
      "memory usage: 3.6+ MB\n",
      "None\n",
      "\n",
      "\n",
      "------------- Пропуски ------------\n",
      "text Пропусков НЕТ\n",
      "toxic Пропусков НЕТ\n",
      "\n",
      "\n",
      "------------- Дубликаты ------------\n",
      "Дубликатов НЕТ\n",
      "\n",
      "\n"
     ]
    },
    {
     "data": {
      "text/html": [
       "<div>\n",
       "<style scoped>\n",
       "    .dataframe tbody tr th:only-of-type {\n",
       "        vertical-align: middle;\n",
       "    }\n",
       "\n",
       "    .dataframe tbody tr th {\n",
       "        vertical-align: top;\n",
       "    }\n",
       "\n",
       "    .dataframe thead th {\n",
       "        text-align: right;\n",
       "    }\n",
       "</style>\n",
       "<table border=\"1\" class=\"dataframe\">\n",
       "  <thead>\n",
       "    <tr style=\"text-align: right;\">\n",
       "      <th></th>\n",
       "      <th>toxic</th>\n",
       "    </tr>\n",
       "  </thead>\n",
       "  <tbody>\n",
       "    <tr>\n",
       "      <th>count</th>\n",
       "      <td>159292.000000</td>\n",
       "    </tr>\n",
       "    <tr>\n",
       "      <th>mean</th>\n",
       "      <td>0.101612</td>\n",
       "    </tr>\n",
       "    <tr>\n",
       "      <th>std</th>\n",
       "      <td>0.302139</td>\n",
       "    </tr>\n",
       "    <tr>\n",
       "      <th>min</th>\n",
       "      <td>0.000000</td>\n",
       "    </tr>\n",
       "    <tr>\n",
       "      <th>25%</th>\n",
       "      <td>0.000000</td>\n",
       "    </tr>\n",
       "    <tr>\n",
       "      <th>50%</th>\n",
       "      <td>0.000000</td>\n",
       "    </tr>\n",
       "    <tr>\n",
       "      <th>75%</th>\n",
       "      <td>0.000000</td>\n",
       "    </tr>\n",
       "    <tr>\n",
       "      <th>max</th>\n",
       "      <td>1.000000</td>\n",
       "    </tr>\n",
       "  </tbody>\n",
       "</table>\n",
       "</div>"
      ],
      "text/plain": [
       "               toxic\n",
       "count  159292.000000\n",
       "mean        0.101612\n",
       "std         0.302139\n",
       "min         0.000000\n",
       "25%         0.000000\n",
       "50%         0.000000\n",
       "75%         0.000000\n",
       "max         1.000000"
      ]
     },
     "metadata": {},
     "output_type": "display_data"
    }
   ],
   "source": [
    "#Функция получения первичной информации о датафрейме\n",
    "def studying_the_data (data):\n",
    "    print ('------------- Первые 5 строк ------------')\n",
    "    display(data.head())\n",
    "    print('')\n",
    "    print('')\n",
    "    print ('------------- Типы данных ------------')\n",
    "    print (data.info())\n",
    "    print('')\n",
    "    print('')\n",
    "    print ('------------- Пропуски ------------')\n",
    "    count = 0\n",
    "    for element in data.columns:\n",
    "        if data[element].isna().sum() > 0: \n",
    "            print(element, ' - ', data[element].isna().sum(), 'пропусков')\n",
    "            count = +1\n",
    "        if count == 0:\n",
    "            print(element, 'Пропусков НЕТ')\n",
    "    print('')\n",
    "    print('')\n",
    "    print ('------------- Дубликаты ------------')\n",
    "    if data.duplicated().sum() > 0:\n",
    "        print('Дубликатов: ', data.duplicated().sum())\n",
    "    else:\n",
    "        print('Дубликатов НЕТ')\n",
    "    print('')\n",
    "    print('')\n",
    "    display(data.describe())\n",
    "\n",
    "studying_the_data (data)"
   ]
  },
  {
   "cell_type": "code",
   "execution_count": 5,
   "metadata": {},
   "outputs": [
    {
     "name": "stderr",
     "output_type": "stream",
     "text": [
      "100%|██████████| 159292/159292 [00:04<00:00, 36727.95it/s]\n"
     ]
    },
    {
     "data": {
      "text/html": [
       "<div>\n",
       "<style scoped>\n",
       "    .dataframe tbody tr th:only-of-type {\n",
       "        vertical-align: middle;\n",
       "    }\n",
       "\n",
       "    .dataframe tbody tr th {\n",
       "        vertical-align: top;\n",
       "    }\n",
       "\n",
       "    .dataframe thead th {\n",
       "        text-align: right;\n",
       "    }\n",
       "</style>\n",
       "<table border=\"1\" class=\"dataframe\">\n",
       "  <thead>\n",
       "    <tr style=\"text-align: right;\">\n",
       "      <th></th>\n",
       "      <th>text</th>\n",
       "      <th>toxic</th>\n",
       "    </tr>\n",
       "  </thead>\n",
       "  <tbody>\n",
       "    <tr>\n",
       "      <th>0</th>\n",
       "      <td>Explanation Why the edits made under my userna...</td>\n",
       "      <td>0</td>\n",
       "    </tr>\n",
       "    <tr>\n",
       "      <th>1</th>\n",
       "      <td>D aww He matches this background colour I m se...</td>\n",
       "      <td>0</td>\n",
       "    </tr>\n",
       "    <tr>\n",
       "      <th>2</th>\n",
       "      <td>Hey man I m really not trying to edit war It s...</td>\n",
       "      <td>0</td>\n",
       "    </tr>\n",
       "    <tr>\n",
       "      <th>3</th>\n",
       "      <td>More I can t make any real suggestions on impr...</td>\n",
       "      <td>0</td>\n",
       "    </tr>\n",
       "    <tr>\n",
       "      <th>4</th>\n",
       "      <td>You sir are my hero Any chance you remember wh...</td>\n",
       "      <td>0</td>\n",
       "    </tr>\n",
       "  </tbody>\n",
       "</table>\n",
       "</div>"
      ],
      "text/plain": [
       "                                                text  toxic\n",
       "0  Explanation Why the edits made under my userna...      0\n",
       "1  D aww He matches this background colour I m se...      0\n",
       "2  Hey man I m really not trying to edit war It s...      0\n",
       "3  More I can t make any real suggestions on impr...      0\n",
       "4  You sir are my hero Any chance you remember wh...      0"
      ]
     },
     "metadata": {},
     "output_type": "display_data"
    }
   ],
   "source": [
    "tqdm.pandas()\n",
    "\n",
    "def clear_text(text):\n",
    "    resub = re.sub(r'[^a-zA-Z]', ' ', text)\n",
    "    return \" \".join(resub.split()) \n",
    "\n",
    "data['text'] = data['text'].progress_apply(clear_text)\n",
    "\n",
    "display(data.head())"
   ]
  },
  {
   "cell_type": "code",
   "execution_count": 6,
   "metadata": {},
   "outputs": [
    {
     "name": "stderr",
     "output_type": "stream",
     "text": [
      "100%|██████████| 159292/159292 [17:17<00:00, 153.57it/s]\n"
     ]
    },
    {
     "data": {
      "text/html": [
       "<div>\n",
       "<style scoped>\n",
       "    .dataframe tbody tr th:only-of-type {\n",
       "        vertical-align: middle;\n",
       "    }\n",
       "\n",
       "    .dataframe tbody tr th {\n",
       "        vertical-align: top;\n",
       "    }\n",
       "\n",
       "    .dataframe thead th {\n",
       "        text-align: right;\n",
       "    }\n",
       "</style>\n",
       "<table border=\"1\" class=\"dataframe\">\n",
       "  <thead>\n",
       "    <tr style=\"text-align: right;\">\n",
       "      <th></th>\n",
       "      <th>text</th>\n",
       "      <th>toxic</th>\n",
       "      <th>clear_text</th>\n",
       "    </tr>\n",
       "  </thead>\n",
       "  <tbody>\n",
       "    <tr>\n",
       "      <th>0</th>\n",
       "      <td>Explanation Why the edits made under my userna...</td>\n",
       "      <td>0</td>\n",
       "      <td>explanation why the edit make under my usernam...</td>\n",
       "    </tr>\n",
       "    <tr>\n",
       "      <th>1</th>\n",
       "      <td>D aww He matches this background colour I m se...</td>\n",
       "      <td>0</td>\n",
       "      <td>d aww he match this background colour I m seem...</td>\n",
       "    </tr>\n",
       "    <tr>\n",
       "      <th>2</th>\n",
       "      <td>Hey man I m really not trying to edit war It s...</td>\n",
       "      <td>0</td>\n",
       "      <td>hey man I m really not try to edit war it s ju...</td>\n",
       "    </tr>\n",
       "    <tr>\n",
       "      <th>3</th>\n",
       "      <td>More I can t make any real suggestions on impr...</td>\n",
       "      <td>0</td>\n",
       "      <td>More I can t make any real suggestion on impro...</td>\n",
       "    </tr>\n",
       "    <tr>\n",
       "      <th>4</th>\n",
       "      <td>You sir are my hero Any chance you remember wh...</td>\n",
       "      <td>0</td>\n",
       "      <td>you sir be my hero any chance you remember wha...</td>\n",
       "    </tr>\n",
       "  </tbody>\n",
       "</table>\n",
       "</div>"
      ],
      "text/plain": [
       "                                                text  toxic  \\\n",
       "0  Explanation Why the edits made under my userna...      0   \n",
       "1  D aww He matches this background colour I m se...      0   \n",
       "2  Hey man I m really not trying to edit war It s...      0   \n",
       "3  More I can t make any real suggestions on impr...      0   \n",
       "4  You sir are my hero Any chance you remember wh...      0   \n",
       "\n",
       "                                          clear_text  \n",
       "0  explanation why the edit make under my usernam...  \n",
       "1  d aww he match this background colour I m seem...  \n",
       "2  hey man I m really not try to edit war it s ju...  \n",
       "3  More I can t make any real suggestion on impro...  \n",
       "4  you sir be my hero any chance you remember wha...  "
      ]
     },
     "metadata": {},
     "output_type": "display_data"
    }
   ],
   "source": [
    "#Функция для лемматизации и очистки текста\n",
    "\n",
    "#wnlemmatizer = WordNetLemmatizer()\n",
    "\n",
    "#def lemmatize_clear_text(text):\n",
    "#    lemm_list = wnlemmatizer.lemmatize(text)\n",
    "#    lemm_text = \"\".join(lemm_list)\n",
    "    \n",
    "#    resub = re.sub(r'[^a-zA-Z]', ' ', lemm_text) \n",
    "#    return \" \".join(resub.split())    \n",
    "\n",
    "#data['clear_text'] = data['text'].apply(lemmatize_clear_text)\n",
    "#display(data.head())\n",
    "\n",
    "\n",
    "nlp = spacy.load(\"en_core_web_sm\", disable=['parser', 'ner'])\n",
    "def lemmatize_clear_text(sentence):\n",
    "    doc = nlp(sentence)    \n",
    "    return \" \".join([token.lemma_ for token in doc])\n",
    "\n",
    "data['clear_text'] = data['text'].progress_apply(lemmatize_clear_text)\n",
    "\n",
    "display(data.head())"
   ]
  },
  {
   "cell_type": "markdown",
   "metadata": {},
   "source": [
    "## Обучение"
   ]
  },
  {
   "cell_type": "markdown",
   "metadata": {},
   "source": [
    "Разделим исходные данные на обучающую и тестовую выборки."
   ]
  },
  {
   "cell_type": "code",
   "execution_count": 7,
   "metadata": {},
   "outputs": [
    {
     "name": "stdout",
     "output_type": "stream",
     "text": [
      "119469\n",
      "119469\n",
      "39823\n",
      "39823\n"
     ]
    }
   ],
   "source": [
    "target = data['toxic']\n",
    "features = data['clear_text']\n",
    "\n",
    "features_train, features_test, target_train, target_test = train_test_split(\n",
    "    features, target, test_size=0.25, random_state=RANDOM_STATE\n",
    ")\n",
    "\n",
    "print(features_train.shape[0])\n",
    "print(target_train.shape[0])\n",
    "print(features_test.shape[0])\n",
    "print(target_test.shape[0])"
   ]
  },
  {
   "cell_type": "markdown",
   "metadata": {},
   "source": [
    "Создадим корпус. Переведём тексты в стандартный для Python формат: кодировку Unicode U. Создадим матрицу и укажим стоп-слова."
   ]
  },
  {
   "cell_type": "code",
   "execution_count": 8,
   "metadata": {},
   "outputs": [
    {
     "name": "stderr",
     "output_type": "stream",
     "text": [
      "[nltk_data] Downloading package stopwords to /home/jovyan/nltk_data...\n",
      "[nltk_data]   Package stopwords is already up-to-date!\n"
     ]
    }
   ],
   "source": [
    "#corpus_train = features_train['clear_text'].values.astype('U')\n",
    "#corpus_test = features_test['clear_text'].values.astype('U')\n",
    "\n",
    "nltk.download('stopwords')\n",
    "stopwords = set(nltk_stopwords.words('english')) \n",
    "\n",
    "count_tf_idf = TfidfVectorizer(stop_words=stopwords) \n",
    "\n",
    "tf_idf_train = count_tf_idf.fit_transform(features_train)\n",
    "tf_idf_test = count_tf_idf.transform(features_test)"
   ]
  },
  {
   "cell_type": "markdown",
   "metadata": {},
   "source": [
    "Проведем обучение на моделях CatBoostClassifier, LogisticRegression, RandomForestClassifier"
   ]
  },
  {
   "cell_type": "markdown",
   "metadata": {},
   "source": [
    "CatBoostClassifier"
   ]
  },
  {
   "cell_type": "code",
   "execution_count": 9,
   "metadata": {},
   "outputs": [
    {
     "name": "stdout",
     "output_type": "stream",
     "text": [
      "CPU times: user 2 µs, sys: 0 ns, total: 2 µs\n",
      "Wall time: 5.48 µs\n"
     ]
    }
   ],
   "source": [
    "%%time\n",
    "\n",
    "#model_cbc = CatBoostClassifier()\n",
    "#params_grid_cbc = {\n",
    "#    'n_estimators' : [100, 200, 300],\n",
    "#    'random_state' : [RANDOM_STATE],\n",
    "#    'max_depth' : [3, 4, 5]\n",
    "#}\n",
    "\n",
    "#grid_cv = GridSearchCV(estimator = model_cbc, param_grid = params_grid_cbc, scoring ='f1', cv = 5)\n",
    "#grid_cv.fit(tf_idf_train, target_train)\n",
    "#print('Лучшие параметры: ', grid_cv.best_params_)\n",
    "#print('F1 значение на тренеровочной выборке: {:.2f}'.format((grid_cv.best_score_)))"
   ]
  },
  {
   "cell_type": "markdown",
   "metadata": {},
   "source": [
    "Не могу обучить CatBoostClassifier, падает ядро."
   ]
  },
  {
   "cell_type": "markdown",
   "metadata": {},
   "source": [
    "LogisticRegression"
   ]
  },
  {
   "cell_type": "code",
   "execution_count": 10,
   "metadata": {
    "scrolled": true
   },
   "outputs": [
    {
     "name": "stdout",
     "output_type": "stream",
     "text": [
      "Лучшие параметры:  {'C': 10, 'max_iter': 150, 'random_state': 12345}\n",
      "F1 значение на тренеровочной выборке: 0.76\n",
      "CPU times: user 4min 13s, sys: 5min 33s, total: 9min 46s\n",
      "Wall time: 9min 47s\n"
     ]
    }
   ],
   "source": [
    "%%time\n",
    "\n",
    "model_lr = LogisticRegression()\n",
    "params_grid_lr = { \n",
    "    'C': [1, 10],\n",
    "    'max_iter': [150],\n",
    "    'random_state' : [RANDOM_STATE]\n",
    "}\n",
    "\n",
    "grid_cv = GridSearchCV(model_lr, params_grid_lr, scoring ='f1', cv=5)\n",
    "grid_cv.fit(tf_idf_train, target_train)\n",
    "print('Лучшие параметры: ', grid_cv.best_params_)\n",
    "print('F1 значение на тренеровочной выборке: {:.2f}'.format((grid_cv.best_score_)))"
   ]
  },
  {
   "attachments": {
    "image.png": {
     "image/png": "[encoded data removed]"
    }
   },
   "cell_type": "markdown",
   "metadata": {},
   "source": [
    "![image.png](attachment:image.png)"
   ]
  },
  {
   "cell_type": "markdown",
   "metadata": {},
   "source": [
    "RandomForestClassifier"
   ]
  },
  {
   "cell_type": "code",
   "execution_count": 11,
   "metadata": {
    "scrolled": true
   },
   "outputs": [
    {
     "name": "stdout",
     "output_type": "stream",
     "text": [
      "Лучшие параметры:  {'max_depth': 15, 'n_estimators': 50}\n",
      "F1 значение на тренеровочной выборке: 0.37\n",
      "CPU times: user 6min 49s, sys: 4.01 s, total: 6min 53s\n",
      "Wall time: 6min 53s\n"
     ]
    }
   ],
   "source": [
    "%%time\n",
    "model_rfc = RandomForestClassifier(class_weight='balanced', n_jobs=-1 )\n",
    "params_grid_rfc = { 'n_estimators': range(10, 51, 10),\n",
    "                     'max_depth': range(5, 16, 5),\n",
    "}\n",
    "\n",
    "grid_cv = GridSearchCV(model_rfc, params_grid_rfc, scoring='f1', cv=5)\n",
    "grid_cv.fit(tf_idf_train, target_train)\n",
    "print('Лучшие параметры: ', grid_cv.best_params_)\n",
    "print('F1 значение на тренеровочной выборке: {:.2f}'.format((grid_cv.best_score_)))"
   ]
  },
  {
   "attachments": {
    "image.png": {
     "image/png": "[encoded data removed]"
    }
   },
   "cell_type": "markdown",
   "metadata": {},
   "source": [
    "![image.png](attachment:image.png)"
   ]
  },
  {
   "cell_type": "markdown",
   "metadata": {},
   "source": [
    "Проверим лучшую модель на тестовой выборке"
   ]
  },
  {
   "cell_type": "code",
   "execution_count": 12,
   "metadata": {},
   "outputs": [
    {
     "name": "stdout",
     "output_type": "stream",
     "text": [
      "F1 значение на тестовой выборке:  0.7857538802660754\n",
      "CPU times: user 30.5 s, sys: 39.6 s, total: 1min 10s\n",
      "Wall time: 1min 10s\n"
     ]
    }
   ],
   "source": [
    "%%time\n",
    " \n",
    "model_lr = LogisticRegression(C = 10, max_iter = 150, random_state = RANDOM_STATE)\n",
    "\n",
    "model_lr.fit(tf_idf_train, target_train)\n",
    "predictions_lr = model_lr.predict(tf_idf_test)\n",
    "print('F1 значение на тестовой выборке: ', f1_score(predictions_lr, target_test))"
   ]
  },
  {
   "attachments": {
    "image.png": {
     "image/png": "[encoded data removed]"
    }
   },
   "cell_type": "markdown",
   "metadata": {},
   "source": [
    "![image.png](attachment:image.png)"
   ]
  },
  {
   "cell_type": "markdown",
   "metadata": {},
   "source": [
    "## Выводы"
   ]
  },
  {
   "cell_type": "markdown",
   "metadata": {},
   "source": [
    "1. Получили первичную информацию о датафрейме. Пропусков, дублей не обнаружили.\n",
    "2. Провели лемматизацию и очистку текста. Создали матрицу и указали стоп-слова.\n",
    "3. Провели обучение на моделях CatBoostClassifier, LogisticRegression, RandomForestClassifier\n",
    "4. Лучшее F1 значение на тренеровочной выборке у LogisticRegression - 0.76\n",
    "5. F1 значение на тестовой выборке у LogisticRegression:  0.78"
   ]
  },
  {
   "cell_type": "markdown",
   "metadata": {},
   "source": [
    "## Чек-лист проверки"
   ]
  },
  {
   "cell_type": "markdown",
   "metadata": {},
   "source": [
    "- [x]  Jupyter Notebook открыт\n",
    "- [x]  Весь код выполняется без ошибок\n",
    "- [x]  Ячейки с кодом расположены в порядке исполнения\n",
    "- [x]  Данные загружены и подготовлены\n",
    "- [x]  Модели обучены\n",
    "- [x]  Значение метрики *F1* не меньше 0.75\n",
    "- [x]  Выводы написаны"
   ]
  },
  {
   "cell_type": "code",
   "execution_count": null,
   "metadata": {},
   "outputs": [],
   "source": []
  }
 ],
 "metadata": {
  "ExecuteTimeLog": [
   {
    "duration": 375,
    "start_time": "2023-05-23T07:14:09.200Z"
   },
   {
    "duration": 3743,
    "start_time": "2023-05-23T07:17:15.327Z"
   },
   {
    "duration": 334,
    "start_time": "2023-05-23T07:20:08.551Z"
   },
   {
    "duration": 1147,
    "start_time": "2023-05-23T07:53:44.346Z"
   },
   {
    "duration": 4,
    "start_time": "2023-05-23T09:28:00.047Z"
   },
   {
    "duration": 32,
    "start_time": "2023-05-23T09:34:24.494Z"
   },
   {
    "duration": 2046,
    "start_time": "2023-05-23T13:09:28.944Z"
   },
   {
    "duration": 3,
    "start_time": "2023-05-23T13:10:11.449Z"
   },
   {
    "duration": 3313,
    "start_time": "2023-05-23T13:10:24.281Z"
   },
   {
    "duration": 2127,
    "start_time": "2023-05-23T13:10:42.478Z"
   },
   {
    "duration": 1064,
    "start_time": "2023-05-23T13:10:44.607Z"
   },
   {
    "duration": 352,
    "start_time": "2023-05-23T13:10:45.674Z"
   },
   {
    "duration": 47,
    "start_time": "2023-05-23T13:10:46.028Z"
   },
   {
    "duration": 7306,
    "start_time": "2023-05-23T13:10:46.083Z"
   },
   {
    "duration": 45,
    "start_time": "2023-05-23T15:59:08.648Z"
   },
   {
    "duration": 1294,
    "start_time": "2023-05-23T16:00:26.312Z"
   },
   {
    "duration": 3521,
    "start_time": "2023-05-23T16:00:27.608Z"
   },
   {
    "duration": 286,
    "start_time": "2023-05-23T16:00:31.131Z"
   },
   {
    "duration": 3,
    "start_time": "2023-05-23T16:00:31.418Z"
   },
   {
    "duration": 6213,
    "start_time": "2023-05-23T16:00:31.422Z"
   },
   {
    "duration": 79,
    "start_time": "2023-05-23T16:00:37.637Z"
   },
   {
    "duration": 1226,
    "start_time": "2023-05-24T11:41:51.775Z"
   },
   {
    "duration": 3345,
    "start_time": "2023-05-24T11:41:53.003Z"
   },
   {
    "duration": 288,
    "start_time": "2023-05-24T11:41:56.350Z"
   },
   {
    "duration": 2,
    "start_time": "2023-05-24T11:41:56.640Z"
   },
   {
    "duration": 6138,
    "start_time": "2023-05-24T11:41:56.643Z"
   },
   {
    "duration": 63,
    "start_time": "2023-05-24T11:42:02.783Z"
   },
   {
    "duration": 2052,
    "start_time": "2023-05-24T11:42:02.848Z"
   },
   {
    "duration": 0,
    "start_time": "2023-05-24T11:42:04.901Z"
   },
   {
    "duration": 1299,
    "start_time": "2023-05-24T12:45:07.493Z"
   },
   {
    "duration": 890,
    "start_time": "2023-05-24T12:45:08.794Z"
   },
   {
    "duration": 297,
    "start_time": "2023-05-24T12:45:09.685Z"
   },
   {
    "duration": 3,
    "start_time": "2023-05-24T12:45:09.984Z"
   },
   {
    "duration": 6114,
    "start_time": "2023-05-24T12:45:09.989Z"
   },
   {
    "duration": 105,
    "start_time": "2023-05-24T12:45:16.104Z"
   },
   {
    "duration": 2207,
    "start_time": "2023-05-24T12:45:16.211Z"
   },
   {
    "duration": 0,
    "start_time": "2023-05-24T12:45:18.420Z"
   },
   {
    "duration": 1364,
    "start_time": "2023-05-24T12:46:09.987Z"
   },
   {
    "duration": 897,
    "start_time": "2023-05-24T12:46:11.353Z"
   },
   {
    "duration": 290,
    "start_time": "2023-05-24T12:46:12.252Z"
   },
   {
    "duration": 2,
    "start_time": "2023-05-24T12:46:12.544Z"
   },
   {
    "duration": 6400,
    "start_time": "2023-05-24T12:46:12.548Z"
   },
   {
    "duration": 87,
    "start_time": "2023-05-24T12:46:18.950Z"
   },
   {
    "duration": 2170,
    "start_time": "2023-05-24T12:46:19.039Z"
   },
   {
    "duration": 0,
    "start_time": "2023-05-24T12:46:21.211Z"
   },
   {
    "duration": 1540,
    "start_time": "2023-05-24T12:51:25.967Z"
   },
   {
    "duration": 3464,
    "start_time": "2023-05-24T12:51:27.509Z"
   },
   {
    "duration": 286,
    "start_time": "2023-05-24T12:51:30.975Z"
   },
   {
    "duration": 2,
    "start_time": "2023-05-24T12:51:31.263Z"
   },
   {
    "duration": 5959,
    "start_time": "2023-05-24T12:51:31.266Z"
   },
   {
    "duration": 70,
    "start_time": "2023-05-24T12:51:37.228Z"
   },
   {
    "duration": 2047,
    "start_time": "2023-05-24T12:51:37.300Z"
   },
   {
    "duration": 0,
    "start_time": "2023-05-24T12:51:39.348Z"
   },
   {
    "duration": 1250,
    "start_time": "2023-05-24T12:52:37.300Z"
   },
   {
    "duration": 877,
    "start_time": "2023-05-24T12:52:38.552Z"
   },
   {
    "duration": 300,
    "start_time": "2023-05-24T12:52:39.431Z"
   },
   {
    "duration": 2,
    "start_time": "2023-05-24T12:52:39.733Z"
   },
   {
    "duration": 5834,
    "start_time": "2023-05-24T12:52:39.738Z"
   },
   {
    "duration": 84,
    "start_time": "2023-05-24T12:52:45.577Z"
   },
   {
    "duration": 2085,
    "start_time": "2023-05-24T12:52:45.663Z"
   },
   {
    "duration": 0,
    "start_time": "2023-05-24T12:52:47.750Z"
   },
   {
    "duration": 1399,
    "start_time": "2023-05-24T12:53:34.467Z"
   },
   {
    "duration": 3462,
    "start_time": "2023-05-24T12:53:35.869Z"
   },
   {
    "duration": 300,
    "start_time": "2023-05-24T12:53:39.333Z"
   },
   {
    "duration": 2,
    "start_time": "2023-05-24T12:53:39.635Z"
   },
   {
    "duration": 5875,
    "start_time": "2023-05-24T12:53:39.640Z"
   },
   {
    "duration": 81,
    "start_time": "2023-05-24T12:53:45.517Z"
   },
   {
    "duration": 10097,
    "start_time": "2023-05-24T12:53:45.600Z"
   },
   {
    "duration": 178,
    "start_time": "2023-05-24T12:53:55.698Z"
   },
   {
    "duration": 80,
    "start_time": "2023-05-24T12:54:05.963Z"
   },
   {
    "duration": 10111,
    "start_time": "2023-05-24T12:54:13.591Z"
   },
   {
    "duration": 86,
    "start_time": "2023-05-24T13:46:36.756Z"
   },
   {
    "duration": 17684,
    "start_time": "2023-05-24T13:46:48.318Z"
   },
   {
    "duration": 1354,
    "start_time": "2023-05-24T14:12:56.791Z"
   },
   {
    "duration": 3706,
    "start_time": "2023-05-24T14:12:58.148Z"
   },
   {
    "duration": 306,
    "start_time": "2023-05-24T14:13:01.856Z"
   },
   {
    "duration": 21,
    "start_time": "2023-05-24T14:13:02.164Z"
   },
   {
    "duration": 6453,
    "start_time": "2023-05-24T14:13:02.190Z"
   },
   {
    "duration": 96,
    "start_time": "2023-05-24T14:13:08.644Z"
   },
   {
    "duration": 10810,
    "start_time": "2023-05-24T14:13:08.743Z"
   },
   {
    "duration": 1307,
    "start_time": "2023-05-24T14:20:33.210Z"
   },
   {
    "duration": 3748,
    "start_time": "2023-05-24T14:20:34.519Z"
   },
   {
    "duration": 290,
    "start_time": "2023-05-24T14:20:38.268Z"
   },
   {
    "duration": 3,
    "start_time": "2023-05-24T14:20:38.560Z"
   },
   {
    "duration": 6339,
    "start_time": "2023-05-24T14:20:38.581Z"
   },
   {
    "duration": 82,
    "start_time": "2023-05-24T14:20:44.921Z"
   },
   {
    "duration": 11121,
    "start_time": "2023-05-24T14:20:45.005Z"
   },
   {
    "duration": 3,
    "start_time": "2023-05-24T14:20:56.127Z"
   },
   {
    "duration": 195,
    "start_time": "2023-05-24T14:20:56.131Z"
   },
   {
    "duration": 5,
    "start_time": "2023-05-24T14:21:27.103Z"
   },
   {
    "duration": 98,
    "start_time": "2023-05-24T14:21:40.258Z"
   },
   {
    "duration": 12,
    "start_time": "2023-05-24T14:22:56.420Z"
   },
   {
    "duration": 103,
    "start_time": "2023-05-24T14:23:25.573Z"
   },
   {
    "duration": 45810,
    "start_time": "2023-05-24T14:26:29.070Z"
   },
   {
    "duration": 83,
    "start_time": "2023-05-24T14:32:00.812Z"
   },
   {
    "duration": 78,
    "start_time": "2023-05-24T14:32:43.562Z"
   },
   {
    "duration": 136,
    "start_time": "2023-05-24T14:47:22.703Z"
   },
   {
    "duration": 115,
    "start_time": "2023-05-24T14:47:44.055Z"
   },
   {
    "duration": 81413,
    "start_time": "2023-05-24T14:49:06.311Z"
   },
   {
    "duration": 1550,
    "start_time": "2023-05-24T21:26:11.915Z"
   },
   {
    "duration": 3721,
    "start_time": "2023-05-24T21:26:13.466Z"
   },
   {
    "duration": 308,
    "start_time": "2023-05-24T21:26:17.189Z"
   },
   {
    "duration": 2,
    "start_time": "2023-05-24T21:26:17.499Z"
   },
   {
    "duration": 6616,
    "start_time": "2023-05-24T21:26:17.502Z"
   },
   {
    "duration": 95,
    "start_time": "2023-05-24T21:26:24.120Z"
   },
   {
    "duration": 10940,
    "start_time": "2023-05-24T21:26:24.217Z"
   },
   {
    "duration": 6,
    "start_time": "2023-05-24T21:26:35.160Z"
   },
   {
    "duration": 125,
    "start_time": "2023-05-24T21:26:35.169Z"
   },
   {
    "duration": 1437,
    "start_time": "2023-05-24T21:37:10.265Z"
   },
   {
    "duration": 936,
    "start_time": "2023-05-24T21:37:11.704Z"
   },
   {
    "duration": 303,
    "start_time": "2023-05-24T21:37:12.642Z"
   },
   {
    "duration": 2,
    "start_time": "2023-05-24T21:37:12.951Z"
   },
   {
    "duration": 6131,
    "start_time": "2023-05-24T21:37:12.955Z"
   },
   {
    "duration": 87,
    "start_time": "2023-05-24T21:37:19.088Z"
   },
   {
    "duration": 10442,
    "start_time": "2023-05-24T21:37:19.176Z"
   },
   {
    "duration": 2,
    "start_time": "2023-05-24T21:37:29.619Z"
   },
   {
    "duration": 181600,
    "start_time": "2023-05-24T21:37:29.623Z"
   },
   {
    "duration": 169054,
    "start_time": "2023-05-24T21:42:09.505Z"
   },
   {
    "duration": 104,
    "start_time": "2023-05-24T21:46:39.965Z"
   },
   {
    "duration": 1659,
    "start_time": "2023-05-24T21:46:50.265Z"
   },
   {
    "duration": 3469,
    "start_time": "2023-05-24T21:46:51.926Z"
   },
   {
    "duration": 299,
    "start_time": "2023-05-24T21:46:55.397Z"
   },
   {
    "duration": 2,
    "start_time": "2023-05-24T21:46:55.698Z"
   },
   {
    "duration": 6080,
    "start_time": "2023-05-24T21:46:55.704Z"
   },
   {
    "duration": 94,
    "start_time": "2023-05-24T21:47:01.785Z"
   },
   {
    "duration": 10399,
    "start_time": "2023-05-24T21:47:01.881Z"
   },
   {
    "duration": 1637,
    "start_time": "2023-05-24T21:52:16.366Z"
   },
   {
    "duration": 3428,
    "start_time": "2023-05-24T21:52:18.005Z"
   },
   {
    "duration": 288,
    "start_time": "2023-05-24T21:52:21.435Z"
   },
   {
    "duration": 3,
    "start_time": "2023-05-24T21:52:21.724Z"
   },
   {
    "duration": 6168,
    "start_time": "2023-05-24T21:52:21.729Z"
   },
   {
    "duration": 75,
    "start_time": "2023-05-24T21:52:27.898Z"
   },
   {
    "duration": 10278,
    "start_time": "2023-05-24T21:52:27.975Z"
   },
   {
    "duration": 5,
    "start_time": "2023-05-24T21:52:38.255Z"
   },
   {
    "duration": 5,
    "start_time": "2023-05-24T21:52:38.262Z"
   },
   {
    "duration": 1704,
    "start_time": "2023-05-24T22:01:41.736Z"
   },
   {
    "duration": 3479,
    "start_time": "2023-05-24T22:01:43.442Z"
   },
   {
    "duration": 301,
    "start_time": "2023-05-24T22:01:46.923Z"
   },
   {
    "duration": 2,
    "start_time": "2023-05-24T22:01:47.226Z"
   },
   {
    "duration": 6240,
    "start_time": "2023-05-24T22:01:47.229Z"
   },
   {
    "duration": 84,
    "start_time": "2023-05-24T22:01:53.470Z"
   },
   {
    "duration": 10603,
    "start_time": "2023-05-24T22:01:53.556Z"
   },
   {
    "duration": 5,
    "start_time": "2023-05-24T22:02:04.162Z"
   },
   {
    "duration": 10,
    "start_time": "2023-05-24T22:02:04.168Z"
   },
   {
    "duration": 194,
    "start_time": "2023-05-24T22:02:04.181Z"
   },
   {
    "duration": 27,
    "start_time": "2023-05-24T22:02:42.632Z"
   },
   {
    "duration": 362050,
    "start_time": "2023-05-24T22:02:48.156Z"
   },
   {
    "duration": 1343,
    "start_time": "2023-05-24T22:26:17.217Z"
   },
   {
    "duration": 916,
    "start_time": "2023-05-24T22:26:18.562Z"
   },
   {
    "duration": 298,
    "start_time": "2023-05-24T22:26:19.480Z"
   },
   {
    "duration": 2,
    "start_time": "2023-05-24T22:26:19.780Z"
   },
   {
    "duration": 6023,
    "start_time": "2023-05-24T22:26:19.784Z"
   },
   {
    "duration": 87,
    "start_time": "2023-05-24T22:26:25.808Z"
   },
   {
    "duration": 10271,
    "start_time": "2023-05-24T22:26:25.896Z"
   },
   {
    "duration": 4,
    "start_time": "2023-05-24T22:26:36.169Z"
   },
   {
    "duration": 1368,
    "start_time": "2023-05-24T22:27:00.341Z"
   },
   {
    "duration": 939,
    "start_time": "2023-05-24T22:27:01.711Z"
   },
   {
    "duration": 299,
    "start_time": "2023-05-24T22:27:02.652Z"
   },
   {
    "duration": 2,
    "start_time": "2023-05-24T22:27:02.953Z"
   },
   {
    "duration": 6078,
    "start_time": "2023-05-24T22:27:02.957Z"
   },
   {
    "duration": 76,
    "start_time": "2023-05-24T22:27:09.037Z"
   },
   {
    "duration": 10259,
    "start_time": "2023-05-24T22:27:09.115Z"
   },
   {
    "duration": 4,
    "start_time": "2023-05-24T22:27:19.375Z"
   },
   {
    "duration": 652575,
    "start_time": "2023-05-24T22:27:19.380Z"
   },
   {
    "duration": 4,
    "start_time": "2023-05-24T22:38:11.965Z"
   },
   {
    "duration": 1326,
    "start_time": "2023-05-24T22:46:05.340Z"
   },
   {
    "duration": 914,
    "start_time": "2023-05-24T22:46:06.668Z"
   },
   {
    "duration": 304,
    "start_time": "2023-05-24T22:46:07.583Z"
   },
   {
    "duration": 2,
    "start_time": "2023-05-24T22:46:07.889Z"
   },
   {
    "duration": 5998,
    "start_time": "2023-05-24T22:46:07.892Z"
   },
   {
    "duration": 78,
    "start_time": "2023-05-24T22:46:13.892Z"
   },
   {
    "duration": 10536,
    "start_time": "2023-05-24T22:46:13.972Z"
   },
   {
    "duration": 4,
    "start_time": "2023-05-24T22:46:24.510Z"
   },
   {
    "duration": 44285,
    "start_time": "2023-05-24T22:46:24.515Z"
   },
   {
    "duration": 2,
    "start_time": "2023-05-24T22:47:08.802Z"
   },
   {
    "duration": 4,
    "start_time": "2023-05-24T22:47:51.199Z"
   },
   {
    "duration": 44846,
    "start_time": "2023-05-24T22:47:57.993Z"
   },
   {
    "duration": 241292,
    "start_time": "2023-05-24T22:56:32.568Z"
   },
   {
    "duration": 882621,
    "start_time": "2023-05-24T23:06:43.452Z"
   },
   {
    "duration": 89,
    "start_time": "2023-05-25T08:38:00.772Z"
   },
   {
    "duration": 1343,
    "start_time": "2023-05-25T08:42:34.765Z"
   },
   {
    "duration": 2369,
    "start_time": "2023-05-25T08:42:36.109Z"
   },
   {
    "duration": 280,
    "start_time": "2023-05-25T08:42:38.480Z"
   },
   {
    "duration": 2,
    "start_time": "2023-05-25T08:42:38.762Z"
   },
   {
    "duration": 6524,
    "start_time": "2023-05-25T08:42:38.766Z"
   },
   {
    "duration": 74,
    "start_time": "2023-05-25T08:42:45.292Z"
   },
   {
    "duration": 10761,
    "start_time": "2023-05-25T08:42:45.367Z"
   },
   {
    "duration": 4,
    "start_time": "2023-05-25T08:42:56.129Z"
   },
   {
    "duration": 648494,
    "start_time": "2023-05-25T08:42:56.135Z"
   },
   {
    "duration": 421730,
    "start_time": "2023-05-25T08:53:44.632Z"
   },
   {
    "duration": 165,
    "start_time": "2023-05-25T09:00:46.364Z"
   },
   {
    "duration": 47977,
    "start_time": "2023-05-25T09:11:55.353Z"
   },
   {
    "duration": 31,
    "start_time": "2023-05-25T09:13:47.239Z"
   },
   {
    "duration": 27,
    "start_time": "2023-05-25T09:14:02.180Z"
   },
   {
    "duration": 72922,
    "start_time": "2023-05-25T09:14:41.838Z"
   },
   {
    "duration": 73004,
    "start_time": "2023-05-25T09:19:29.925Z"
   },
   {
    "duration": 15039,
    "start_time": "2023-05-25T11:25:54.039Z"
   },
   {
    "duration": 4067,
    "start_time": "2023-05-25T11:30:43.681Z"
   },
   {
    "duration": 347,
    "start_time": "2023-05-25T11:30:47.749Z"
   },
   {
    "duration": 1161751,
    "start_time": "2023-05-25T11:30:53.452Z"
   },
   {
    "duration": 4,
    "start_time": "2023-05-25T12:02:20.570Z"
   },
   {
    "duration": 3569,
    "start_time": "2023-05-25T12:02:22.473Z"
   },
   {
    "duration": 305,
    "start_time": "2023-05-25T12:02:26.045Z"
   },
   {
    "duration": 713,
    "start_time": "2023-05-25T12:02:38.964Z"
   },
   {
    "duration": 18,
    "start_time": "2023-05-25T12:04:11.458Z"
   },
   {
    "duration": 4,
    "start_time": "2023-05-25T12:04:46.851Z"
   },
   {
    "duration": 4205,
    "start_time": "2023-05-25T12:04:54.590Z"
   },
   {
    "duration": 3624,
    "start_time": "2023-05-25T12:05:15.951Z"
   },
   {
    "duration": 3625,
    "start_time": "2023-05-25T12:05:46.406Z"
   },
   {
    "duration": 16528,
    "start_time": "2023-05-25T12:46:31.312Z"
   },
   {
    "duration": 976,
    "start_time": "2023-05-25T12:46:47.843Z"
   },
   {
    "duration": 300,
    "start_time": "2023-05-25T12:46:48.821Z"
   },
   {
    "duration": 332,
    "start_time": "2023-05-25T12:46:49.123Z"
   },
   {
    "duration": 0,
    "start_time": "2023-05-25T12:46:49.457Z"
   },
   {
    "duration": 0,
    "start_time": "2023-05-25T12:46:49.458Z"
   },
   {
    "duration": 0,
    "start_time": "2023-05-25T12:46:49.459Z"
   },
   {
    "duration": 0,
    "start_time": "2023-05-25T12:46:49.460Z"
   },
   {
    "duration": 0,
    "start_time": "2023-05-25T12:46:49.460Z"
   },
   {
    "duration": 0,
    "start_time": "2023-05-25T12:46:49.461Z"
   },
   {
    "duration": 0,
    "start_time": "2023-05-25T12:46:49.462Z"
   },
   {
    "duration": 4207,
    "start_time": "2023-05-25T12:47:17.376Z"
   },
   {
    "duration": 4021,
    "start_time": "2023-05-25T12:47:31.984Z"
   },
   {
    "duration": 892,
    "start_time": "2023-05-25T12:47:36.008Z"
   },
   {
    "duration": 304,
    "start_time": "2023-05-25T12:47:36.902Z"
   },
   {
    "duration": 4217,
    "start_time": "2023-05-25T12:47:37.208Z"
   },
   {
    "duration": 5,
    "start_time": "2023-05-25T12:47:41.426Z"
   },
   {
    "duration": 0,
    "start_time": "2023-05-25T12:47:41.433Z"
   },
   {
    "duration": 0,
    "start_time": "2023-05-25T12:47:41.434Z"
   },
   {
    "duration": 0,
    "start_time": "2023-05-25T12:47:41.451Z"
   },
   {
    "duration": 0,
    "start_time": "2023-05-25T12:47:41.452Z"
   },
   {
    "duration": 0,
    "start_time": "2023-05-25T12:47:41.453Z"
   },
   {
    "duration": 0,
    "start_time": "2023-05-25T12:47:41.454Z"
   },
   {
    "duration": 1361,
    "start_time": "2023-05-25T12:49:54.395Z"
   },
   {
    "duration": 4151,
    "start_time": "2023-05-25T12:50:32.916Z"
   },
   {
    "duration": 905,
    "start_time": "2023-05-25T12:50:37.069Z"
   },
   {
    "duration": 320,
    "start_time": "2023-05-25T12:50:37.976Z"
   },
   {
    "duration": 4341,
    "start_time": "2023-05-25T12:50:38.298Z"
   },
   {
    "duration": 1020910,
    "start_time": "2023-05-25T12:50:42.641Z"
   },
   {
    "duration": 73,
    "start_time": "2023-05-25T13:07:43.553Z"
   },
   {
    "duration": 11123,
    "start_time": "2023-05-25T13:07:43.628Z"
   },
   {
    "duration": 4,
    "start_time": "2023-05-25T13:07:54.753Z"
   },
   {
    "duration": 16,
    "start_time": "2023-05-25T13:07:54.758Z"
   },
   {
    "duration": 10,
    "start_time": "2023-05-25T13:07:54.776Z"
   },
   {
    "duration": 8,
    "start_time": "2023-05-25T13:07:54.787Z"
   },
   {
    "duration": 4475,
    "start_time": "2023-05-25T21:34:12.111Z"
   },
   {
    "duration": 3274,
    "start_time": "2023-05-25T21:34:16.588Z"
   },
   {
    "duration": 288,
    "start_time": "2023-05-25T21:34:19.863Z"
   },
   {
    "duration": 4404,
    "start_time": "2023-05-25T21:34:20.153Z"
   },
   {
    "duration": 982492,
    "start_time": "2023-05-25T21:34:24.558Z"
   },
   {
    "duration": 91,
    "start_time": "2023-05-25T21:50:47.052Z"
   },
   {
    "duration": 235,
    "start_time": "2023-05-25T21:50:47.144Z"
   },
   {
    "duration": 4,
    "start_time": "2023-05-25T21:50:47.382Z"
   },
   {
    "duration": 409,
    "start_time": "2023-05-25T21:50:47.388Z"
   },
   {
    "duration": 127,
    "start_time": "2023-05-25T21:50:47.800Z"
   },
   {
    "duration": 111,
    "start_time": "2023-05-25T21:50:47.929Z"
   },
   {
    "duration": 21,
    "start_time": "2023-05-25T21:57:15.837Z"
   },
   {
    "duration": 4031,
    "start_time": "2023-05-25T21:58:54.979Z"
   },
   {
    "duration": 975,
    "start_time": "2023-05-25T21:58:59.012Z"
   },
   {
    "duration": 21,
    "start_time": "2023-05-25T21:58:59.988Z"
   },
   {
    "duration": 56,
    "start_time": "2023-05-25T21:59:00.011Z"
   },
   {
    "duration": 29,
    "start_time": "2023-05-25T21:59:00.068Z"
   },
   {
    "duration": 3564,
    "start_time": "2023-05-25T21:59:00.099Z"
   },
   {
    "duration": 344,
    "start_time": "2023-05-25T21:59:03.665Z"
   },
   {
    "duration": 0,
    "start_time": "2023-05-25T21:59:04.011Z"
   },
   {
    "duration": 0,
    "start_time": "2023-05-25T21:59:04.012Z"
   },
   {
    "duration": 0,
    "start_time": "2023-05-25T21:59:04.013Z"
   },
   {
    "duration": 0,
    "start_time": "2023-05-25T21:59:04.014Z"
   },
   {
    "duration": 0,
    "start_time": "2023-05-25T21:59:04.025Z"
   },
   {
    "duration": 7,
    "start_time": "2023-05-25T21:59:40.854Z"
   },
   {
    "duration": 166,
    "start_time": "2023-05-25T21:59:48.513Z"
   },
   {
    "duration": 193,
    "start_time": "2023-05-25T21:59:55.884Z"
   },
   {
    "duration": 3436,
    "start_time": "2023-05-25T22:00:12.340Z"
   },
   {
    "duration": 4151,
    "start_time": "2023-05-25T22:01:05.287Z"
   },
   {
    "duration": 1048,
    "start_time": "2023-05-25T22:01:09.440Z"
   },
   {
    "duration": 20,
    "start_time": "2023-05-25T22:01:10.490Z"
   },
   {
    "duration": 58,
    "start_time": "2023-05-25T22:01:10.512Z"
   },
   {
    "duration": 168,
    "start_time": "2023-05-25T22:01:10.573Z"
   },
   {
    "duration": 35488,
    "start_time": "2023-05-25T22:01:10.742Z"
   },
   {
    "duration": 8,
    "start_time": "2023-05-25T22:01:46.232Z"
   },
   {
    "duration": 368,
    "start_time": "2023-05-25T22:01:46.241Z"
   },
   {
    "duration": 5,
    "start_time": "2023-05-25T22:01:46.610Z"
   },
   {
    "duration": 32515,
    "start_time": "2023-05-25T22:01:46.617Z"
   },
   {
    "duration": 10674,
    "start_time": "2023-05-25T22:02:19.224Z"
   },
   {
    "duration": 2727,
    "start_time": "2023-05-25T22:02:29.900Z"
   },
   {
    "duration": 4078,
    "start_time": "2023-05-25T22:13:27.065Z"
   },
   {
    "duration": 996,
    "start_time": "2023-05-25T22:13:31.145Z"
   },
   {
    "duration": 3,
    "start_time": "2023-05-25T22:13:32.142Z"
   },
   {
    "duration": 313,
    "start_time": "2023-05-25T22:13:32.147Z"
   },
   {
    "duration": 4383,
    "start_time": "2023-05-25T22:13:32.462Z"
   },
   {
    "duration": 1037740,
    "start_time": "2023-05-25T22:13:36.847Z"
   },
   {
    "duration": 48,
    "start_time": "2023-05-25T22:30:54.589Z"
   },
   {
    "duration": 7340,
    "start_time": "2023-05-25T22:30:54.639Z"
   },
   {
    "duration": 4,
    "start_time": "2023-05-25T22:31:01.981Z"
   },
   {
    "duration": 587238,
    "start_time": "2023-05-25T22:31:01.988Z"
   },
   {
    "duration": 413715,
    "start_time": "2023-05-25T22:40:49.228Z"
   },
   {
    "duration": 70094,
    "start_time": "2023-05-25T22:47:42.945Z"
   }
  ],
  "kernelspec": {
   "display_name": "Python 3 (ipykernel)",
   "language": "python",
   "name": "python3"
  },
  "language_info": {
   "codemirror_mode": {
    "name": "ipython",
    "version": 3
   },
   "file_extension": ".py",
   "mimetype": "text/x-python",
   "name": "python",
   "nbconvert_exporter": "python",
   "pygments_lexer": "ipython3",
   "version": "3.13.5"
  },
  "toc": {
   "base_numbering": 1,
   "nav_menu": {},
   "number_sections": true,
   "sideBar": true,
   "skip_h1_title": true,
   "title_cell": "Содержание",
   "title_sidebar": "Contents",
   "toc_cell": true,
   "toc_position": {
    "height": "calc(100% - 180px)",
    "left": "10px",
    "top": "150px",
    "width": "302.391px"
   },
   "toc_section_display": true,
   "toc_window_display": false
  }
 },
 "nbformat": 4,
 "nbformat_minor": 4
}
